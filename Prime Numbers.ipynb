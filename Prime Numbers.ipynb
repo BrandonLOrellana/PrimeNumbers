{
 "cells": [
  {
   "cell_type": "code",
   "execution_count": 1,
   "metadata": {},
   "outputs": [],
   "source": [
    "'''\n",
    "Cell just to import libs/functions\n",
    "'''\n",
    "from math import sqrt, floor, log"
   ]
  },
  {
   "cell_type": "code",
   "execution_count": 2,
   "metadata": {},
   "outputs": [],
   "source": [
    "'''\n",
    "Most basic alg for prime testing\n",
    "\n",
    "Tests for divisibility between all\n",
    "numbers from 2 to num-1 and num\n",
    "'''\n",
    "def is_prime_basic(num):\n",
    "    if num == 1:\n",
    "        return False\n",
    "    for i in range(2, num):\n",
    "        if num%i == 0:\n",
    "            return False\n",
    "    return True\n",
    "\n",
    "'''\n",
    "Very similar to the first alg, just\n",
    "lowers the limit from num-1 to sqrt(num)\n",
    "because is num is composite, you are\n",
    "guaranteed to have a factor less than or\n",
    "equal to sqrt(num)\n",
    "'''\n",
    "def is_prime_sqrt(num):\n",
    "    if num == 1:\n",
    "        return False\n",
    "    for i in range(2, 1 + floor(sqrt(num))):\n",
    "        if num%i == 0:\n",
    "            return False\n",
    "    return True"
   ]
  },
  {
   "cell_type": "code",
   "execution_count": 3,
   "metadata": {},
   "outputs": [],
   "source": [
    "'''\n",
    "Creating a list of primes for the next\n",
    "function to use\n",
    "'''\n",
    "primes = []\n",
    "for i in range(2, 1000):\n",
    "    if is_prime_sqrt(i):\n",
    "        primes.append(i)\n",
    "print(primes[:10])"
   ]
  },
  {
   "cell_type": "code",
   "execution_count": 5,
   "metadata": {},
   "outputs": [],
   "source": [
    "def is_prime_list_of_factors(num, factors):\n",
    "    if sqrt(num)>factors[-1]:\n",
    "        raise ValueError(\"Number too big to test\")\n",
    "    elif num == 1:\n",
    "        return False\n",
    "    for i in factors:\n",
    "        if i > floor(sqrt(num)):\n",
    "            break\n",
    "        if num%i==0:\n",
    "            return False\n",
    "    return True"
   ]
  },
  {
   "cell_type": "code",
   "execution_count": 6,
   "metadata": {},
   "outputs": [
    {
     "name": "stdout",
     "output_type": "stream",
     "text": [
      "Primes under 100000 : 9592\n"
     ]
    }
   ],
   "source": [
    "'''\n",
    "Simple (and accurate) prime counting alg\n",
    "'''\n",
    "primeCount, limit = 0, 100000\n",
    "for i in range(2, limit+1):\n",
    "    if is_prime_list_of_factors(i, primes):\n",
    "        primeCount+=1\n",
    "print(\"Primes under\", limit, \":\", primeCount)\n",
    "\n",
    "\n",
    "'''\n",
    "Approximation of pi(x) with\n",
    "x/ln(x)\n",
    "Where pi(x) is number of primes\n",
    "\n",
    "'''\n",
    "def pi_ln(x):\n",
    "    return x/log(x)"
   ]
  }
 ],
 "metadata": {
  "kernelspec": {
   "display_name": "Python 3",
   "language": "python",
   "name": "python3"
  },
  "language_info": {
   "codemirror_mode": {
    "name": "ipython",
    "version": 3
   },
   "file_extension": ".py",
   "mimetype": "text/x-python",
   "name": "python",
   "nbconvert_exporter": "python",
   "pygments_lexer": "ipython3",
   "version": "3.8.3"
  }
 },
 "nbformat": 4,
 "nbformat_minor": 4
}
